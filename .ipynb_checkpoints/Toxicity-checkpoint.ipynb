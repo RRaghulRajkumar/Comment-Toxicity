{
 "cells": [
  {
   "cell_type": "markdown",
   "metadata": {},
   "source": [
    "# 0. Install Dependencies and Bring in Data"
   ]
  },
  {
   "cell_type": "code",
   "execution_count": 1,
   "metadata": {
    "jupyter": {
     "outputs_hidden": true
    },
    "tags": []
   },
   "outputs": [
    {
     "name": "stdout",
     "output_type": "stream",
     "text": [
      "Requirement already satisfied: tensorflow in /Users/raghul_raj_kumarr/opt/anaconda3/lib/python3.9/site-packages (2.13.0)\n",
      "Collecting tensorflow-gpu\n",
      "  Using cached tensorflow-gpu-2.12.0.tar.gz (2.6 kB)\n",
      "  Preparing metadata (setup.py) ... \u001b[?25ldone\n",
      "\u001b[?25hRequirement already satisfied: pandas in /Users/raghul_raj_kumarr/opt/anaconda3/lib/python3.9/site-packages (1.4.4)\n",
      "Requirement already satisfied: matplotlib in /Users/raghul_raj_kumarr/opt/anaconda3/lib/python3.9/site-packages (3.5.2)\n",
      "Collecting sklearn\n",
      "  Using cached sklearn-0.0.post9-py3-none-any.whl\n",
      "Requirement already satisfied: absl-py>=1.0.0 in /Users/raghul_raj_kumarr/opt/anaconda3/lib/python3.9/site-packages (from tensorflow) (1.4.0)\n",
      "Requirement already satisfied: astunparse>=1.6.0 in /Users/raghul_raj_kumarr/opt/anaconda3/lib/python3.9/site-packages (from tensorflow) (1.6.3)\n",
      "Requirement already satisfied: flatbuffers>=23.1.21 in /Users/raghul_raj_kumarr/opt/anaconda3/lib/python3.9/site-packages (from tensorflow) (23.3.3)\n",
      "Requirement already satisfied: gast<=0.4.0,>=0.2.1 in /Users/raghul_raj_kumarr/opt/anaconda3/lib/python3.9/site-packages (from tensorflow) (0.4.0)\n",
      "Requirement already satisfied: google-pasta>=0.1.1 in /Users/raghul_raj_kumarr/opt/anaconda3/lib/python3.9/site-packages (from tensorflow) (0.2.0)\n",
      "Requirement already satisfied: h5py>=2.9.0 in /Users/raghul_raj_kumarr/opt/anaconda3/lib/python3.9/site-packages (from tensorflow) (3.7.0)\n",
      "Requirement already satisfied: libclang>=13.0.0 in /Users/raghul_raj_kumarr/opt/anaconda3/lib/python3.9/site-packages (from tensorflow) (16.0.6)\n",
      "Requirement already satisfied: numpy<=1.24.3,>=1.22 in /Users/raghul_raj_kumarr/opt/anaconda3/lib/python3.9/site-packages (from tensorflow) (1.24.3)\n",
      "Requirement already satisfied: opt-einsum>=2.3.2 in /Users/raghul_raj_kumarr/opt/anaconda3/lib/python3.9/site-packages (from tensorflow) (3.3.0)\n",
      "Requirement already satisfied: packaging in /Users/raghul_raj_kumarr/opt/anaconda3/lib/python3.9/site-packages (from tensorflow) (21.3)\n",
      "Requirement already satisfied: protobuf!=4.21.0,!=4.21.1,!=4.21.2,!=4.21.3,!=4.21.4,!=4.21.5,<5.0.0dev,>=3.20.3 in /Users/raghul_raj_kumarr/opt/anaconda3/lib/python3.9/site-packages (from tensorflow) (3.20.3)\n",
      "Requirement already satisfied: setuptools in /Users/raghul_raj_kumarr/opt/anaconda3/lib/python3.9/site-packages (from tensorflow) (63.4.1)\n",
      "Requirement already satisfied: six>=1.12.0 in /Users/raghul_raj_kumarr/opt/anaconda3/lib/python3.9/site-packages (from tensorflow) (1.16.0)\n",
      "Requirement already satisfied: termcolor>=1.1.0 in /Users/raghul_raj_kumarr/opt/anaconda3/lib/python3.9/site-packages (from tensorflow) (2.3.0)\n",
      "Collecting typing-extensions<4.6.0,>=3.6.6 (from tensorflow)\n",
      "  Using cached typing_extensions-4.5.0-py3-none-any.whl (27 kB)\n",
      "Requirement already satisfied: wrapt>=1.11.0 in /Users/raghul_raj_kumarr/opt/anaconda3/lib/python3.9/site-packages (from tensorflow) (1.14.1)\n",
      "Requirement already satisfied: grpcio<2.0,>=1.24.3 in /Users/raghul_raj_kumarr/opt/anaconda3/lib/python3.9/site-packages (from tensorflow) (1.57.0)\n",
      "Requirement already satisfied: tensorboard<2.14,>=2.13 in /Users/raghul_raj_kumarr/opt/anaconda3/lib/python3.9/site-packages (from tensorflow) (2.13.0)\n",
      "Requirement already satisfied: tensorflow-estimator<2.14,>=2.13.0 in /Users/raghul_raj_kumarr/opt/anaconda3/lib/python3.9/site-packages (from tensorflow) (2.13.0)\n",
      "Requirement already satisfied: keras<2.14,>=2.13.1 in /Users/raghul_raj_kumarr/opt/anaconda3/lib/python3.9/site-packages (from tensorflow) (2.13.1)\n",
      "Requirement already satisfied: tensorflow-io-gcs-filesystem>=0.23.1 in /Users/raghul_raj_kumarr/opt/anaconda3/lib/python3.9/site-packages (from tensorflow) (0.33.0)\n",
      "Collecting python_version>\"3.7\" (from tensorflow-gpu)\n",
      "  Using cached python_version-0.0.2-py2.py3-none-any.whl (3.4 kB)\n",
      "Requirement already satisfied: python-dateutil>=2.8.1 in /Users/raghul_raj_kumarr/opt/anaconda3/lib/python3.9/site-packages (from pandas) (2.8.2)\n",
      "Requirement already satisfied: pytz>=2020.1 in /Users/raghul_raj_kumarr/opt/anaconda3/lib/python3.9/site-packages (from pandas) (2022.1)\n",
      "Requirement already satisfied: cycler>=0.10 in /Users/raghul_raj_kumarr/opt/anaconda3/lib/python3.9/site-packages (from matplotlib) (0.11.0)\n",
      "Requirement already satisfied: fonttools>=4.22.0 in /Users/raghul_raj_kumarr/opt/anaconda3/lib/python3.9/site-packages (from matplotlib) (4.25.0)\n",
      "Requirement already satisfied: kiwisolver>=1.0.1 in /Users/raghul_raj_kumarr/opt/anaconda3/lib/python3.9/site-packages (from matplotlib) (1.4.2)\n",
      "Requirement already satisfied: pillow>=6.2.0 in /Users/raghul_raj_kumarr/opt/anaconda3/lib/python3.9/site-packages (from matplotlib) (9.2.0)\n",
      "Requirement already satisfied: pyparsing>=2.2.1 in /Users/raghul_raj_kumarr/opt/anaconda3/lib/python3.9/site-packages (from matplotlib) (3.0.9)\n",
      "Requirement already satisfied: wheel<1.0,>=0.23.0 in /Users/raghul_raj_kumarr/opt/anaconda3/lib/python3.9/site-packages (from astunparse>=1.6.0->tensorflow) (0.37.1)\n",
      "Requirement already satisfied: google-auth<3,>=1.6.3 in /Users/raghul_raj_kumarr/opt/anaconda3/lib/python3.9/site-packages (from tensorboard<2.14,>=2.13->tensorflow) (2.22.0)\n",
      "Requirement already satisfied: google-auth-oauthlib<1.1,>=0.5 in /Users/raghul_raj_kumarr/opt/anaconda3/lib/python3.9/site-packages (from tensorboard<2.14,>=2.13->tensorflow) (1.0.0)\n",
      "Requirement already satisfied: markdown>=2.6.8 in /Users/raghul_raj_kumarr/opt/anaconda3/lib/python3.9/site-packages (from tensorboard<2.14,>=2.13->tensorflow) (3.3.4)\n",
      "Requirement already satisfied: requests<3,>=2.21.0 in /Users/raghul_raj_kumarr/opt/anaconda3/lib/python3.9/site-packages (from tensorboard<2.14,>=2.13->tensorflow) (2.28.1)\n",
      "Requirement already satisfied: tensorboard-data-server<0.8.0,>=0.7.0 in /Users/raghul_raj_kumarr/opt/anaconda3/lib/python3.9/site-packages (from tensorboard<2.14,>=2.13->tensorflow) (0.7.1)\n",
      "Requirement already satisfied: werkzeug>=1.0.1 in /Users/raghul_raj_kumarr/opt/anaconda3/lib/python3.9/site-packages (from tensorboard<2.14,>=2.13->tensorflow) (2.0.3)\n",
      "Requirement already satisfied: cachetools<6.0,>=2.0.0 in /Users/raghul_raj_kumarr/opt/anaconda3/lib/python3.9/site-packages (from google-auth<3,>=1.6.3->tensorboard<2.14,>=2.13->tensorflow) (5.3.1)\n",
      "Requirement already satisfied: pyasn1-modules>=0.2.1 in /Users/raghul_raj_kumarr/opt/anaconda3/lib/python3.9/site-packages (from google-auth<3,>=1.6.3->tensorboard<2.14,>=2.13->tensorflow) (0.2.8)\n",
      "Requirement already satisfied: rsa<5,>=3.1.4 in /Users/raghul_raj_kumarr/opt/anaconda3/lib/python3.9/site-packages (from google-auth<3,>=1.6.3->tensorboard<2.14,>=2.13->tensorflow) (4.9)\n",
      "Requirement already satisfied: urllib3<2.0 in /Users/raghul_raj_kumarr/opt/anaconda3/lib/python3.9/site-packages (from google-auth<3,>=1.6.3->tensorboard<2.14,>=2.13->tensorflow) (1.26.11)\n",
      "Requirement already satisfied: requests-oauthlib>=0.7.0 in /Users/raghul_raj_kumarr/opt/anaconda3/lib/python3.9/site-packages (from google-auth-oauthlib<1.1,>=0.5->tensorboard<2.14,>=2.13->tensorflow) (1.3.1)\n",
      "Requirement already satisfied: charset-normalizer<3,>=2 in /Users/raghul_raj_kumarr/opt/anaconda3/lib/python3.9/site-packages (from requests<3,>=2.21.0->tensorboard<2.14,>=2.13->tensorflow) (2.0.4)\n",
      "Requirement already satisfied: idna<4,>=2.5 in /Users/raghul_raj_kumarr/opt/anaconda3/lib/python3.9/site-packages (from requests<3,>=2.21.0->tensorboard<2.14,>=2.13->tensorflow) (3.3)\n",
      "Requirement already satisfied: certifi>=2017.4.17 in /Users/raghul_raj_kumarr/opt/anaconda3/lib/python3.9/site-packages (from requests<3,>=2.21.0->tensorboard<2.14,>=2.13->tensorflow) (2022.9.24)\n",
      "Requirement already satisfied: pyasn1<0.5.0,>=0.4.6 in /Users/raghul_raj_kumarr/opt/anaconda3/lib/python3.9/site-packages (from pyasn1-modules>=0.2.1->google-auth<3,>=1.6.3->tensorboard<2.14,>=2.13->tensorflow) (0.4.8)\n",
      "Requirement already satisfied: oauthlib>=3.0.0 in /Users/raghul_raj_kumarr/opt/anaconda3/lib/python3.9/site-packages (from requests-oauthlib>=0.7.0->google-auth-oauthlib<1.1,>=0.5->tensorboard<2.14,>=2.13->tensorflow) (3.2.2)\n",
      "Building wheels for collected packages: tensorflow-gpu\n",
      "  Building wheel for tensorflow-gpu (setup.py) ... \u001b[?25lerror\n",
      "  \u001b[1;31merror\u001b[0m: \u001b[1msubprocess-exited-with-error\u001b[0m\n",
      "  \n",
      "  \u001b[31m×\u001b[0m \u001b[32mpython setup.py bdist_wheel\u001b[0m did not run successfully.\n",
      "  \u001b[31m│\u001b[0m exit code: \u001b[1;36m1\u001b[0m\n",
      "  \u001b[31m╰─>\u001b[0m \u001b[31m[18 lines of output]\u001b[0m\n",
      "  \u001b[31m   \u001b[0m Traceback (most recent call last):\n",
      "  \u001b[31m   \u001b[0m   File \"<string>\", line 2, in <module>\n",
      "  \u001b[31m   \u001b[0m   File \"<pip-setuptools-caller>\", line 34, in <module>\n",
      "  \u001b[31m   \u001b[0m   File \"/private/var/folders/tf/98dxj1b15ys366q5nv4rmfxh0000gn/T/pip-install-n8d510ti/tensorflow-gpu_d96a268dbd8b46d3a654623fe415d05c/setup.py\", line 37, in <module>\n",
      "  \u001b[31m   \u001b[0m     raise Exception(TF_REMOVAL_WARNING)\n",
      "  \u001b[31m   \u001b[0m Exception:\n",
      "  \u001b[31m   \u001b[0m \n",
      "  \u001b[31m   \u001b[0m =========================================================\n",
      "  \u001b[31m   \u001b[0m The \"tensorflow-gpu\" package has been removed!\n",
      "  \u001b[31m   \u001b[0m \n",
      "  \u001b[31m   \u001b[0m Please install \"tensorflow\" instead.\n",
      "  \u001b[31m   \u001b[0m \n",
      "  \u001b[31m   \u001b[0m Other than the name, the two packages have been identical\n"
     ]
    },
    {
     "name": "stdout",
     "output_type": "stream",
     "text": [
      "  \u001b[31m   \u001b[0m since TensorFlow 2.1, or roughly since Sep 2019. For more\n",
      "  \u001b[31m   \u001b[0m information, see: pypi.org/project/tensorflow-gpu\n",
      "  \u001b[31m   \u001b[0m =========================================================\n",
      "  \u001b[31m   \u001b[0m \n",
      "  \u001b[31m   \u001b[0m \n",
      "  \u001b[31m   \u001b[0m \u001b[31m[end of output]\u001b[0m\n",
      "  \n",
      "  \u001b[1;35mnote\u001b[0m: This error originates from a subprocess, and is likely not a problem with pip.\n",
      "\u001b[31m  ERROR: Failed building wheel for tensorflow-gpu\u001b[0m\u001b[31m\n",
      "\u001b[0m\u001b[?25h  Running setup.py clean for tensorflow-gpu\n",
      "Failed to build tensorflow-gpu\n",
      "\u001b[31mERROR: Could not build wheels for tensorflow-gpu, which is required to install pyproject.toml-based projects\u001b[0m\u001b[31m\n",
      "\u001b[0m\n",
      "\u001b[1m[\u001b[0m\u001b[34;49mnotice\u001b[0m\u001b[1;39;49m]\u001b[0m\u001b[39;49m A new release of pip is available: \u001b[0m\u001b[31;49m23.1.2\u001b[0m\u001b[39;49m -> \u001b[0m\u001b[32;49m23.2.1\u001b[0m\n",
      "\u001b[1m[\u001b[0m\u001b[34;49mnotice\u001b[0m\u001b[1;39;49m]\u001b[0m\u001b[39;49m To update, run: \u001b[0m\u001b[32;49mpip install --upgrade pip\u001b[0m\n"
     ]
    }
   ],
   "source": [
    "!pip install tensorflow tensorflow-gpu pandas matplotlib sklearn"
   ]
  },
  {
   "cell_type": "code",
   "execution_count": 2,
   "metadata": {
    "tags": []
   },
   "outputs": [
    {
     "name": "stderr",
     "output_type": "stream",
     "text": [
      "2023-09-14 18:24:16.050644: I tensorflow/core/platform/cpu_feature_guard.cc:182] This TensorFlow binary is optimized to use available CPU instructions in performance-critical operations.\n",
      "To enable the following instructions: AVX2 FMA, in other operations, rebuild TensorFlow with the appropriate compiler flags.\n"
     ]
    }
   ],
   "source": [
    "import os\n",
    "import pandas as pd\n",
    "import tensorflow as tf\n",
    "import numpy as np"
   ]
  },
  {
   "cell_type": "code",
   "execution_count": 3,
   "metadata": {
    "tags": []
   },
   "outputs": [],
   "source": [
    "df = pd.read_csv(os.path.join('jigsaw-toxic-comment-classification-challenge','train.csv', 'train.csv'))"
   ]
  },
  {
   "cell_type": "code",
   "execution_count": 4,
   "metadata": {
    "tags": []
   },
   "outputs": [
    {
     "data": {
      "text/html": [
       "<div>\n",
       "<style scoped>\n",
       "    .dataframe tbody tr th:only-of-type {\n",
       "        vertical-align: middle;\n",
       "    }\n",
       "\n",
       "    .dataframe tbody tr th {\n",
       "        vertical-align: top;\n",
       "    }\n",
       "\n",
       "    .dataframe thead th {\n",
       "        text-align: right;\n",
       "    }\n",
       "</style>\n",
       "<table border=\"1\" class=\"dataframe\">\n",
       "  <thead>\n",
       "    <tr style=\"text-align: right;\">\n",
       "      <th></th>\n",
       "      <th>id</th>\n",
       "      <th>comment_text</th>\n",
       "      <th>toxic</th>\n",
       "      <th>severe_toxic</th>\n",
       "      <th>obscene</th>\n",
       "      <th>threat</th>\n",
       "      <th>insult</th>\n",
       "      <th>identity_hate</th>\n",
       "    </tr>\n",
       "  </thead>\n",
       "  <tbody>\n",
       "    <tr>\n",
       "      <th>0</th>\n",
       "      <td>0000997932d777bf</td>\n",
       "      <td>Explanation\\nWhy the edits made under my usern...</td>\n",
       "      <td>0</td>\n",
       "      <td>0</td>\n",
       "      <td>0</td>\n",
       "      <td>0</td>\n",
       "      <td>0</td>\n",
       "      <td>0</td>\n",
       "    </tr>\n",
       "    <tr>\n",
       "      <th>1</th>\n",
       "      <td>000103f0d9cfb60f</td>\n",
       "      <td>D'aww! He matches this background colour I'm s...</td>\n",
       "      <td>0</td>\n",
       "      <td>0</td>\n",
       "      <td>0</td>\n",
       "      <td>0</td>\n",
       "      <td>0</td>\n",
       "      <td>0</td>\n",
       "    </tr>\n",
       "    <tr>\n",
       "      <th>2</th>\n",
       "      <td>000113f07ec002fd</td>\n",
       "      <td>Hey man, I'm really not trying to edit war. It...</td>\n",
       "      <td>0</td>\n",
       "      <td>0</td>\n",
       "      <td>0</td>\n",
       "      <td>0</td>\n",
       "      <td>0</td>\n",
       "      <td>0</td>\n",
       "    </tr>\n",
       "    <tr>\n",
       "      <th>3</th>\n",
       "      <td>0001b41b1c6bb37e</td>\n",
       "      <td>\"\\nMore\\nI can't make any real suggestions on ...</td>\n",
       "      <td>0</td>\n",
       "      <td>0</td>\n",
       "      <td>0</td>\n",
       "      <td>0</td>\n",
       "      <td>0</td>\n",
       "      <td>0</td>\n",
       "    </tr>\n",
       "    <tr>\n",
       "      <th>4</th>\n",
       "      <td>0001d958c54c6e35</td>\n",
       "      <td>You, sir, are my hero. Any chance you remember...</td>\n",
       "      <td>0</td>\n",
       "      <td>0</td>\n",
       "      <td>0</td>\n",
       "      <td>0</td>\n",
       "      <td>0</td>\n",
       "      <td>0</td>\n",
       "    </tr>\n",
       "  </tbody>\n",
       "</table>\n",
       "</div>"
      ],
      "text/plain": [
       "                 id                                       comment_text  toxic  \\\n",
       "0  0000997932d777bf  Explanation\\nWhy the edits made under my usern...      0   \n",
       "1  000103f0d9cfb60f  D'aww! He matches this background colour I'm s...      0   \n",
       "2  000113f07ec002fd  Hey man, I'm really not trying to edit war. It...      0   \n",
       "3  0001b41b1c6bb37e  \"\\nMore\\nI can't make any real suggestions on ...      0   \n",
       "4  0001d958c54c6e35  You, sir, are my hero. Any chance you remember...      0   \n",
       "\n",
       "   severe_toxic  obscene  threat  insult  identity_hate  \n",
       "0             0        0       0       0              0  \n",
       "1             0        0       0       0              0  \n",
       "2             0        0       0       0              0  \n",
       "3             0        0       0       0              0  \n",
       "4             0        0       0       0              0  "
      ]
     },
     "execution_count": 4,
     "metadata": {},
     "output_type": "execute_result"
    }
   ],
   "source": [
    "df.head()"
   ]
  },
  {
   "cell_type": "markdown",
   "metadata": {},
   "source": [
    "# 1. Preprocess"
   ]
  },
  {
   "cell_type": "code",
   "execution_count": 5,
   "metadata": {
    "jupyter": {
     "outputs_hidden": true
    },
    "tags": []
   },
   "outputs": [
    {
     "name": "stdout",
     "output_type": "stream",
     "text": [
      "Package                                           Version\r\n",
      "------------------------------------------------- --------------------\r\n",
      "absl-py                                           1.4.0\r\n",
      "alabaster                                         0.7.12\r\n",
      "altair                                            5.0.1\r\n",
      "anaconda-client                                   1.11.0\r\n",
      "anaconda-navigator                                2.3.1\r\n",
      "anaconda-project                                  0.11.1\r\n",
      "anyio                                             3.5.0\r\n",
      "appdirs                                           1.4.4\r\n",
      "applaunchservices                                 0.3.0\r\n",
      "appnope                                           0.1.2\r\n",
      "appscript                                         1.1.2\r\n",
      "argon2-cffi                                       21.3.0\r\n",
      "argon2-cffi-bindings                              21.2.0\r\n",
      "arrow                                             1.2.2\r\n",
      "astroid                                           2.11.7\r\n",
      "astropy                                           5.1\r\n",
      "astunparse                                        1.6.3\r\n",
      "atomicwrites                                      1.4.0\r\n",
      "attrs                                             21.4.0\r\n",
      "audioread                                         3.0.0\r\n",
      "Automat                                           20.2.0\r\n",
      "autopep8                                          1.6.0\r\n",
      "Babel                                             2.9.1\r\n",
      "backcall                                          0.2.0\r\n",
      "backports.functools-lru-cache                     1.6.4\r\n",
      "backports.tempfile                                1.0\r\n",
      "backports.weakref                                 1.0.post1\r\n",
      "bcrypt                                            3.2.0\r\n",
      "beautifulsoup4                                    4.11.1\r\n",
      "binaryornot                                       0.4.4\r\n",
      "bitarray                                          2.5.1\r\n",
      "bkcharts                                          0.2\r\n",
      "black                                             22.6.0\r\n",
      "bleach                                            4.1.0\r\n",
      "blinker                                           1.6.2\r\n",
      "bokeh                                             2.4.3\r\n",
      "boto3                                             1.24.28\r\n",
      "botocore                                          1.27.28\r\n",
      "Bottleneck                                        1.3.5\r\n",
      "brotlipy                                          0.7.0\r\n",
      "cachetools                                        5.3.1\r\n",
      "certifi                                           2022.9.24\r\n",
      "cffi                                              1.15.1\r\n",
      "chardet                                           4.0.0\r\n",
      "charset-normalizer                                2.0.4\r\n",
      "click                                             8.0.4\r\n",
      "cloudpickle                                       2.0.0\r\n",
      "clyent                                            1.2.2\r\n",
      "colorama                                          0.4.5\r\n",
      "colorcet                                          3.0.0\r\n",
      "conda                                             22.9.0\r\n",
      "conda-build                                       3.22.0\r\n",
      "conda-content-trust                               0.1.3\r\n",
      "conda-pack                                        0.6.0\r\n",
      "conda-package-handling                            1.9.0\r\n",
      "conda-repo-cli                                    1.0.20\r\n",
      "conda-token                                       0.4.0\r\n",
      "conda-verify                                      3.4.2\r\n",
      "constantly                                        15.1.0\r\n",
      "cookiecutter                                      1.7.3\r\n",
      "cryptography                                      37.0.1\r\n",
      "cssselect                                         1.1.0\r\n",
      "cvzone                                            1.5.6\r\n",
      "cycler                                            0.11.0\r\n",
      "Cython                                            0.29.32\r\n",
      "cytoolz                                           0.11.0\r\n",
      "daal4py                                           2021.6.0\r\n",
      "dask                                              2022.7.0\r\n",
      "datashader                                        0.14.1\r\n",
      "datashape                                         0.5.4\r\n",
      "debugpy                                           1.5.1\r\n",
      "decorator                                         5.1.1\r\n",
      "defusedxml                                        0.7.1\r\n",
      "diff-match-patch                                  20200713\r\n",
      "dill                                              0.3.4\r\n",
      "distlib                                           0.3.7\r\n",
      "distributed                                       2022.7.0\r\n",
      "docutils                                          0.18.1\r\n",
      "entrypoints                                       0.4\r\n",
      "et-xmlfile                                        1.1.0\r\n",
      "fastjsonschema                                    2.16.2\r\n",
      "filelock                                          3.12.3\r\n",
      "flake8                                            4.0.1\r\n",
      "Flask                                             1.1.2\r\n",
      "flatbuffers                                       23.3.3\r\n",
      "fonttools                                         4.25.0\r\n",
      "fsspec                                            2022.7.1\r\n",
      "future                                            0.18.2\r\n",
      "gast                                              0.4.0\r\n",
      "gdown                                             4.7.1\r\n",
      "gensim                                            4.1.2\r\n",
      "gitdb                                             4.0.10\r\n",
      "GitPython                                         3.1.32\r\n",
      "glob2                                             0.7\r\n",
      "gmpy2                                             2.1.2\r\n",
      "google-auth                                       2.22.0\r\n",
      "google-auth-oauthlib                              1.0.0\r\n",
      "google-pasta                                      0.2.0\r\n",
      "greenlet                                          1.1.1\r\n",
      "grpcio                                            1.57.0\r\n",
      "h5py                                              3.7.0\r\n",
      "HeapDict                                          1.0.1\r\n",
      "holoviews                                         1.15.0\r\n",
      "hvplot                                            0.8.0\r\n",
      "hyperlink                                         21.0.0\r\n",
      "idna                                              3.3\r\n",
      "imagecodecs                                       2021.8.26\r\n",
      "imageio                                           2.19.3\r\n",
      "imagesize                                         1.4.1\r\n",
      "importlib-metadata                                4.11.3\r\n",
      "imutils                                           0.5.4\r\n",
      "incremental                                       21.3.0\r\n",
      "inflection                                        0.5.1\r\n",
      "iniconfig                                         1.1.1\r\n",
      "intake                                            0.6.5\r\n",
      "intervaltree                                      3.1.0\r\n",
      "ipykernel                                         6.15.2\r\n",
      "ipython                                           7.31.1\r\n",
      "ipython-genutils                                  0.2.0\r\n",
      "ipywidgets                                        7.6.5\r\n",
      "isort                                             5.9.3\r\n",
      "itemadapter                                       0.3.0\r\n",
      "itemloaders                                       1.0.4\r\n",
      "itsdangerous                                      2.0.1\r\n",
      "jdcal                                             1.4.1\r\n",
      "jedi                                              0.18.1\r\n",
      "jellyfish                                         0.9.0\r\n",
      "Jinja2                                            2.11.3\r\n",
      "jinja2-time                                       0.2.0\r\n",
      "jmespath                                          0.10.0\r\n",
      "joblib                                            1.1.0\r\n",
      "json5                                             0.9.6\r\n",
      "jsonschema                                        4.16.0\r\n",
      "jupyter                                           1.0.0\r\n",
      "jupyter_client                                    7.3.4\r\n",
      "jupyter-console                                   6.4.3\r\n",
      "jupyter_core                                      4.11.1\r\n",
      "jupyter-server                                    1.18.1\r\n",
      "jupyterlab                                        3.4.4\r\n",
      "jupyterlab-pygments                               0.1.2\r\n",
      "jupyterlab-server                                 2.10.3\r\n",
      "jupyterlab-widgets                                1.0.0\r\n"
     ]
    },
    {
     "name": "stdout",
     "output_type": "stream",
     "text": [
      "kaggle                                            1.5.16\r\n",
      "keras                                             2.13.1\r\n",
      "keyring                                           23.4.0\r\n",
      "kiwisolver                                        1.4.2\r\n",
      "lazy_loader                                       0.2\r\n",
      "lazy-object-proxy                                 1.6.0\r\n",
      "libarchive-c                                      2.9\r\n",
      "libclang                                          16.0.6\r\n",
      "librosa                                           0.6.0\r\n",
      "llvmlite                                          0.38.0\r\n",
      "locket                                            1.0.0\r\n",
      "lxml                                              4.9.1\r\n",
      "lz4                                               3.1.3\r\n",
      "Markdown                                          3.3.4\r\n",
      "markdown-it-py                                    3.0.0\r\n",
      "MarkupSafe                                        2.0.1\r\n",
      "matplotlib                                        3.5.2\r\n",
      "matplotlib-inline                                 0.1.6\r\n",
      "mccabe                                            0.7.0\r\n",
      "mdurl                                             0.1.2\r\n",
      "mediapipe                                         0.9.1.0\r\n",
      "mistune                                           0.8.4\r\n",
      "mkl-fft                                           1.3.1\r\n",
      "mkl-random                                        1.2.2\r\n",
      "mkl-service                                       2.4.0\r\n",
      "mock                                              4.0.3\r\n",
      "MouseInfo                                         0.1.3\r\n",
      "mpmath                                            1.2.1\r\n",
      "msgpack                                           1.0.3\r\n",
      "multipledispatch                                  0.6.0\r\n",
      "munkres                                           1.1.4\r\n",
      "mypy-extensions                                   0.4.3\r\n",
      "navigator-updater                                 0.3.0\r\n",
      "nbclassic                                         0.3.5\r\n",
      "nbclient                                          0.5.13\r\n",
      "nbconvert                                         6.4.4\r\n",
      "nbformat                                          5.5.0\r\n",
      "nest-asyncio                                      1.5.5\r\n",
      "networkx                                          2.8.4\r\n",
      "nltk                                              3.7\r\n",
      "nose                                              1.3.7\r\n",
      "notebook                                          6.4.12\r\n",
      "numba                                             0.55.1\r\n",
      "numexpr                                           2.8.3\r\n",
      "numpy                                             1.24.3\r\n",
      "numpydoc                                          1.4.0\r\n",
      "oauthlib                                          3.2.2\r\n",
      "olefile                                           0.46\r\n",
      "opencv-contrib-python                             4.7.0.72\r\n",
      "opencv-python                                     4.7.0.72\r\n",
      "opendatasets                                      0.1.22\r\n",
      "openpyxl                                          3.0.10\r\n",
      "opt-einsum                                        3.3.0\r\n",
      "packaging                                         21.3\r\n",
      "pandas                                            1.4.4\r\n",
      "pandocfilters                                     1.5.0\r\n",
      "panel                                             0.13.1\r\n",
      "param                                             1.12.0\r\n",
      "parsel                                            1.6.0\r\n",
      "parso                                             0.8.3\r\n",
      "partd                                             1.2.0\r\n",
      "pathlib                                           1.0.1\r\n",
      "pathspec                                          0.9.0\r\n",
      "patsy                                             0.5.2\r\n",
      "pep8                                              1.7.1\r\n",
      "pexpect                                           4.8.0\r\n",
      "pickleshare                                       0.7.5\r\n",
      "Pillow                                            9.2.0\r\n",
      "pip                                               23.1.2\r\n",
      "pkginfo                                           1.8.2\r\n",
      "platformdirs                                      3.10.0\r\n",
      "playsound                                         1.3.0\r\n",
      "plotly                                            5.9.0\r\n",
      "pluggy                                            1.0.0\r\n",
      "ply                                               3.11\r\n",
      "pooch                                             1.6.0\r\n",
      "poyo                                              0.5.0\r\n",
      "prometheus-client                                 0.14.1\r\n",
      "prompt-toolkit                                    3.0.20\r\n",
      "Protego                                           0.1.16\r\n",
      "protobuf                                          3.20.3\r\n",
      "psutil                                            5.9.0\r\n",
      "psycopg2                                          2.9.6\r\n",
      "ptyprocess                                        0.7.0\r\n",
      "py                                                1.11.0\r\n",
      "pyarrow                                           13.0.0\r\n",
      "pyasn1                                            0.4.8\r\n",
      "pyasn1-modules                                    0.2.8\r\n",
      "PyAutoGUI                                         0.9.53\r\n",
      "pycodestyle                                       2.8.0\r\n",
      "pycosat                                           0.6.3\r\n",
      "pycparser                                         2.21\r\n",
      "pyct                                              0.4.8\r\n",
      "pycurl                                            7.45.1\r\n",
      "pydeck                                            0.8.0\r\n",
      "PyDispatcher                                      2.0.5\r\n",
      "pydocstyle                                        6.1.1\r\n",
      "pyerfa                                            2.0.0\r\n",
      "pyflakes                                          2.4.0\r\n",
      "PyGetWindow                                       0.0.9\r\n",
      "Pygments                                          2.16.1\r\n",
      "PyHamcrest                                        2.0.2\r\n",
      "PyJWT                                             2.4.0\r\n",
      "pylint                                            2.14.5\r\n",
      "pyls-spyder                                       0.4.0\r\n",
      "Pympler                                           1.0.1\r\n",
      "PyMsgBox                                          1.0.9\r\n",
      "pyobjc                                            9.0.1\r\n",
      "pyobjc-core                                       9.0.1\r\n",
      "pyobjc-framework-Accessibility                    9.0.1\r\n",
      "pyobjc-framework-Accounts                         9.0.1\r\n",
      "pyobjc-framework-AddressBook                      9.0.1\r\n",
      "pyobjc-framework-AdServices                       9.0.1\r\n",
      "pyobjc-framework-AdSupport                        9.0.1\r\n",
      "pyobjc-framework-AppleScriptKit                   9.0.1\r\n",
      "pyobjc-framework-AppleScriptObjC                  9.0.1\r\n",
      "pyobjc-framework-ApplicationServices              9.0.1\r\n",
      "pyobjc-framework-AppTrackingTransparency          9.0.1\r\n",
      "pyobjc-framework-AudioVideoBridging               9.0.1\r\n",
      "pyobjc-framework-AuthenticationServices           9.0.1\r\n",
      "pyobjc-framework-AutomaticAssessmentConfiguration 9.0.1\r\n",
      "pyobjc-framework-Automator                        9.0.1\r\n",
      "pyobjc-framework-AVFoundation                     9.0.1\r\n",
      "pyobjc-framework-AVKit                            9.0.1\r\n",
      "pyobjc-framework-BusinessChat                     9.0.1\r\n",
      "pyobjc-framework-CalendarStore                    9.0.1\r\n",
      "pyobjc-framework-CallKit                          9.0.1\r\n",
      "pyobjc-framework-CFNetwork                        9.0.1\r\n",
      "pyobjc-framework-ClassKit                         9.0.1\r\n",
      "pyobjc-framework-CloudKit                         9.0.1\r\n",
      "pyobjc-framework-Cocoa                            9.0.1\r\n",
      "pyobjc-framework-Collaboration                    9.0.1\r\n",
      "pyobjc-framework-ColorSync                        9.0.1\r\n",
      "pyobjc-framework-Contacts                         9.0.1\r\n",
      "pyobjc-framework-ContactsUI                       9.0.1\r\n",
      "pyobjc-framework-CoreAudio                        9.0.1\r\n",
      "pyobjc-framework-CoreAudioKit                     9.0.1\r\n",
      "pyobjc-framework-CoreBluetooth                    9.0.1\r\n",
      "pyobjc-framework-CoreData                         9.0.1\r\n",
      "pyobjc-framework-CoreHaptics                      9.0.1\r\n",
      "pyobjc-framework-CoreLocation                     9.0.1\r\n",
      "pyobjc-framework-CoreMedia                        9.0.1\r\n",
      "pyobjc-framework-CoreMediaIO                      9.0.1\r\n",
      "pyobjc-framework-CoreMIDI                         9.0.1\r\n",
      "pyobjc-framework-CoreML                           9.0.1\r\n",
      "pyobjc-framework-CoreMotion                       9.0.1\r\n",
      "pyobjc-framework-CoreServices                     9.0.1\r\n",
      "pyobjc-framework-CoreSpotlight                    9.0.1\r\n",
      "pyobjc-framework-CoreText                         9.0.1\r\n",
      "pyobjc-framework-CoreWLAN                         9.0.1\r\n"
     ]
    },
    {
     "name": "stdout",
     "output_type": "stream",
     "text": [
      "pyobjc-framework-CryptoTokenKit                   9.0.1\r\n",
      "pyobjc-framework-DataDetection                    9.0.1\r\n",
      "pyobjc-framework-DeviceCheck                      9.0.1\r\n",
      "pyobjc-framework-DictionaryServices               9.0.1\r\n",
      "pyobjc-framework-DiscRecording                    9.0.1\r\n",
      "pyobjc-framework-DiscRecordingUI                  9.0.1\r\n",
      "pyobjc-framework-DiskArbitration                  9.0.1\r\n",
      "pyobjc-framework-DVDPlayback                      9.0.1\r\n",
      "pyobjc-framework-EventKit                         9.0.1\r\n",
      "pyobjc-framework-ExceptionHandling                9.0.1\r\n",
      "pyobjc-framework-ExecutionPolicy                  9.0.1\r\n",
      "pyobjc-framework-ExternalAccessory                9.0.1\r\n",
      "pyobjc-framework-FileProvider                     9.0.1\r\n",
      "pyobjc-framework-FileProviderUI                   9.0.1\r\n",
      "pyobjc-framework-FinderSync                       9.0.1\r\n",
      "pyobjc-framework-FSEvents                         9.0.1\r\n",
      "pyobjc-framework-GameCenter                       9.0.1\r\n",
      "pyobjc-framework-GameController                   9.0.1\r\n",
      "pyobjc-framework-GameKit                          9.0.1\r\n",
      "pyobjc-framework-GameplayKit                      9.0.1\r\n",
      "pyobjc-framework-ImageCaptureCore                 9.0.1\r\n",
      "pyobjc-framework-IMServicePlugIn                  9.0.1\r\n",
      "pyobjc-framework-InputMethodKit                   9.0.1\r\n",
      "pyobjc-framework-InstallerPlugins                 9.0.1\r\n",
      "pyobjc-framework-InstantMessage                   9.0.1\r\n",
      "pyobjc-framework-Intents                          9.0.1\r\n",
      "pyobjc-framework-IntentsUI                        9.0.1\r\n",
      "pyobjc-framework-IOSurface                        9.0.1\r\n",
      "pyobjc-framework-iTunesLibrary                    9.0.1\r\n",
      "pyobjc-framework-KernelManagement                 9.0.1\r\n",
      "pyobjc-framework-LatentSemanticMapping            9.0.1\r\n",
      "pyobjc-framework-LaunchServices                   9.0.1\r\n",
      "pyobjc-framework-libdispatch                      9.0.1\r\n",
      "pyobjc-framework-LinkPresentation                 9.0.1\r\n",
      "pyobjc-framework-LocalAuthentication              9.0.1\r\n",
      "pyobjc-framework-LocalAuthenticationEmbeddedUI    9.0.1\r\n",
      "pyobjc-framework-MailKit                          9.0.1\r\n",
      "pyobjc-framework-MapKit                           9.0.1\r\n",
      "pyobjc-framework-MediaAccessibility               9.0.1\r\n",
      "pyobjc-framework-MediaLibrary                     9.0.1\r\n",
      "pyobjc-framework-MediaPlayer                      9.0.1\r\n",
      "pyobjc-framework-MediaToolbox                     9.0.1\r\n",
      "pyobjc-framework-Metal                            9.0.1\r\n",
      "pyobjc-framework-MetalKit                         9.0.1\r\n",
      "pyobjc-framework-MetalPerformanceShaders          9.0.1\r\n",
      "pyobjc-framework-MetalPerformanceShadersGraph     9.0.1\r\n",
      "pyobjc-framework-MetricKit                        9.0.1\r\n",
      "pyobjc-framework-MLCompute                        9.0.1\r\n",
      "pyobjc-framework-ModelIO                          9.0.1\r\n",
      "pyobjc-framework-MultipeerConnectivity            9.0.1\r\n",
      "pyobjc-framework-NaturalLanguage                  9.0.1\r\n",
      "pyobjc-framework-NetFS                            9.0.1\r\n",
      "pyobjc-framework-Network                          9.0.1\r\n",
      "pyobjc-framework-NetworkExtension                 9.0.1\r\n",
      "pyobjc-framework-NotificationCenter               9.0.1\r\n",
      "pyobjc-framework-OpenDirectory                    9.0.1\r\n",
      "pyobjc-framework-OSAKit                           9.0.1\r\n",
      "pyobjc-framework-OSLog                            9.0.1\r\n",
      "pyobjc-framework-PassKit                          9.0.1\r\n",
      "pyobjc-framework-PencilKit                        9.0.1\r\n",
      "pyobjc-framework-Photos                           9.0.1\r\n",
      "pyobjc-framework-PhotosUI                         9.0.1\r\n",
      "pyobjc-framework-PreferencePanes                  9.0.1\r\n",
      "pyobjc-framework-PushKit                          9.0.1\r\n",
      "pyobjc-framework-Quartz                           9.0.1\r\n",
      "pyobjc-framework-QuickLookThumbnailing            9.0.1\r\n",
      "pyobjc-framework-ReplayKit                        9.0.1\r\n",
      "pyobjc-framework-SafariServices                   9.0.1\r\n",
      "pyobjc-framework-SceneKit                         9.0.1\r\n",
      "pyobjc-framework-ScreenCaptureKit                 9.0.1\r\n",
      "pyobjc-framework-ScreenSaver                      9.0.1\r\n",
      "pyobjc-framework-ScreenTime                       9.0.1\r\n",
      "pyobjc-framework-ScriptingBridge                  9.0.1\r\n",
      "pyobjc-framework-SearchKit                        9.0.1\r\n",
      "pyobjc-framework-Security                         9.0.1\r\n",
      "pyobjc-framework-SecurityFoundation               9.0.1\r\n",
      "pyobjc-framework-SecurityInterface                9.0.1\r\n",
      "pyobjc-framework-ServiceManagement                9.0.1\r\n",
      "pyobjc-framework-ShazamKit                        9.0.1\r\n",
      "pyobjc-framework-Social                           9.0.1\r\n",
      "pyobjc-framework-SoundAnalysis                    9.0.1\r\n",
      "pyobjc-framework-Speech                           9.0.1\r\n",
      "pyobjc-framework-SpriteKit                        9.0.1\r\n",
      "pyobjc-framework-StoreKit                         9.0.1\r\n",
      "pyobjc-framework-SyncServices                     9.0.1\r\n",
      "pyobjc-framework-SystemConfiguration              9.0.1\r\n",
      "pyobjc-framework-SystemExtensions                 9.0.1\r\n",
      "pyobjc-framework-UniformTypeIdentifiers           9.0.1\r\n",
      "pyobjc-framework-UserNotifications                9.0.1\r\n",
      "pyobjc-framework-UserNotificationsUI              9.0.1\r\n",
      "pyobjc-framework-VideoSubscriberAccount           9.0.1\r\n",
      "pyobjc-framework-VideoToolbox                     9.0.1\r\n",
      "pyobjc-framework-Virtualization                   9.0.1\r\n",
      "pyobjc-framework-Vision                           9.0.1\r\n",
      "pyobjc-framework-WebKit                           9.0.1\r\n",
      "pyodbc                                            4.0.34\r\n",
      "pyOpenSSL                                         22.0.0\r\n",
      "pyparsing                                         3.0.9\r\n",
      "pyperclip                                         1.8.2\r\n",
      "PyQt5-sip                                         12.11.0\r\n",
      "PyRect                                            0.2.0\r\n",
      "pyrsistent                                        0.18.0\r\n",
      "PyScreeze                                         0.1.28\r\n",
      "PySocks                                           1.7.1\r\n",
      "pytest                                            7.1.2\r\n",
      "python-dateutil                                   2.8.2\r\n",
      "python-lsp-black                                  1.2.1\r\n",
      "python-lsp-jsonrpc                                1.0.0\r\n",
      "python-lsp-server                                 1.5.0\r\n",
      "python-slugify                                    5.0.2\r\n",
      "python-snappy                                     0.6.0\r\n",
      "pytweening                                        1.0.4\r\n",
      "pytz                                              2022.1\r\n",
      "pytz-deprecation-shim                             0.1.0.post0\r\n",
      "pyviz-comms                                       2.0.2\r\n",
      "PyWavelets                                        1.3.0\r\n",
      "PyYAML                                            6.0\r\n",
      "pyzmq                                             23.2.0\r\n",
      "QDarkStyle                                        3.0.2\r\n",
      "qstylizer                                         0.1.10\r\n",
      "QtAwesome                                         1.0.3\r\n",
      "qtconsole                                         5.3.2\r\n",
      "QtPy                                              2.2.0\r\n",
      "queuelib                                          1.5.0\r\n",
      "regex                                             2022.7.9\r\n",
      "requests                                          2.28.1\r\n",
      "requests-file                                     1.5.1\r\n",
      "requests-oauthlib                                 1.3.1\r\n",
      "resampy                                           0.4.2\r\n",
      "rich                                              13.5.2\r\n",
      "rope                                              0.22.0\r\n",
      "rsa                                               4.9\r\n",
      "Rtree                                             0.9.7\r\n",
      "ruamel-yaml-conda                                 0.15.100\r\n",
      "rubicon-objc                                      0.4.5\r\n",
      "s3transfer                                        0.6.0\r\n",
      "scikit-image                                      0.19.2\r\n",
      "scikit-learn                                      1.0.2\r\n",
      "scikit-learn-intelex                              2021.20221004.121333\r\n",
      "scipy                                             1.9.1\r\n",
      "Scrapy                                            2.6.2\r\n",
      "seaborn                                           0.11.2\r\n",
      "Send2Trash                                        1.8.0\r\n",
      "service-identity                                  18.1.0\r\n",
      "setuptools                                        63.4.1\r\n",
      "sip                                               6.6.2\r\n",
      "six                                               1.16.0\r\n",
      "smart-open                                        5.2.1\r\n",
      "smmap                                             5.0.0\r\n",
      "sniffio                                           1.2.0\r\n",
      "snowballstemmer                                   2.2.0\r\n",
      "sortedcollections                                 2.1.0\r\n",
      "sortedcontainers                                  2.4.0\r\n",
      "soundfile                                         0.12.1\r\n",
      "soupsieve                                         2.3.1\r\n",
      "soxr                                              0.3.5\r\n",
      "Sphinx                                            5.0.2\r\n",
      "sphinxcontrib-applehelp                           1.0.2\r\n",
      "sphinxcontrib-devhelp                             1.0.2\r\n",
      "sphinxcontrib-htmlhelp                            2.0.0\r\n",
      "sphinxcontrib-jsmath                              1.0.1\r\n",
      "sphinxcontrib-qthelp                              1.0.3\r\n",
      "sphinxcontrib-serializinghtml                     1.1.5\r\n",
      "spyder                                            5.3.3\r\n",
      "spyder-kernels                                    2.3.3\r\n",
      "SQLAlchemy                                        1.4.39\r\n"
     ]
    },
    {
     "name": "stdout",
     "output_type": "stream",
     "text": [
      "statsmodels                                       0.13.2\r\n",
      "streamlit                                         1.26.0\r\n",
      "sympy                                             1.10.1\r\n",
      "tables                                            3.6.1\r\n",
      "tabulate                                          0.8.10\r\n",
      "TBB                                               0.2\r\n",
      "tblib                                             1.7.0\r\n",
      "tenacity                                          8.2.3\r\n",
      "tensorboard                                       2.13.0\r\n",
      "tensorboard-data-server                           0.7.1\r\n",
      "tensorflow                                        2.13.0\r\n",
      "tensorflow-estimator                              2.13.0\r\n",
      "tensorflow-io-gcs-filesystem                      0.33.0\r\n",
      "termcolor                                         2.3.0\r\n",
      "terminado                                         0.13.1\r\n",
      "testpath                                          0.6.0\r\n",
      "text-unidecode                                    1.3\r\n",
      "textdistance                                      4.2.1\r\n",
      "threadpoolctl                                     2.2.0\r\n",
      "three-merge                                       0.1.1\r\n",
      "tifffile                                          2021.7.2\r\n",
      "tinycss                                           0.4\r\n",
      "tldextract                                        3.2.0\r\n",
      "toml                                              0.10.2\r\n",
      "tomli                                             2.0.1\r\n",
      "tomlkit                                           0.11.1\r\n",
      "toolz                                             0.11.2\r\n",
      "tornado                                           6.1\r\n",
      "tqdm                                              4.64.1\r\n",
      "traitlets                                         5.1.1\r\n",
      "Twisted                                           22.2.0\r\n",
      "typing_extensions                                 4.7.1\r\n",
      "tzdata                                            2023.3\r\n",
      "tzlocal                                           4.3.1\r\n",
      "ujson                                             5.4.0\r\n",
      "Unidecode                                         1.2.0\r\n",
      "urllib3                                           1.26.11\r\n",
      "validators                                        0.21.2\r\n",
      "virtualenv                                        20.24.4\r\n",
      "w3lib                                             1.21.0\r\n",
      "watchdog                                          2.1.6\r\n",
      "wcwidth                                           0.2.5\r\n",
      "webencodings                                      0.5.1\r\n",
      "websocket-client                                  0.58.0\r\n",
      "Werkzeug                                          2.0.3\r\n",
      "whatthepatch                                      1.0.2\r\n",
      "wheel                                             0.37.1\r\n",
      "widgetsnbextension                                3.5.2\r\n",
      "wrapt                                             1.14.1\r\n",
      "wurlitzer                                         3.0.2\r\n",
      "xarray                                            0.20.1\r\n",
      "xgboost                                           1.7.5\r\n",
      "xlrd                                              2.0.1\r\n",
      "XlsxWriter                                        3.0.3\r\n",
      "xlwings                                           0.27.15\r\n",
      "yapf                                              0.31.0\r\n",
      "zict                                              2.1.0\r\n",
      "zipp                                              3.8.0\r\n",
      "zope.interface                                    5.4.0\r\n",
      "\r\n",
      "\u001b[1m[\u001b[0m\u001b[34;49mnotice\u001b[0m\u001b[1;39;49m]\u001b[0m\u001b[39;49m A new release of pip is available: \u001b[0m\u001b[31;49m23.1.2\u001b[0m\u001b[39;49m -> \u001b[0m\u001b[32;49m23.2.1\u001b[0m\r\n",
      "\u001b[1m[\u001b[0m\u001b[34;49mnotice\u001b[0m\u001b[1;39;49m]\u001b[0m\u001b[39;49m To update, run: \u001b[0m\u001b[32;49mpip install --upgrade pip\u001b[0m\r\n"
     ]
    }
   ],
   "source": [
    "!pip list"
   ]
  },
  {
   "cell_type": "code",
   "execution_count": 6,
   "metadata": {
    "tags": []
   },
   "outputs": [],
   "source": [
    "from tensorflow.keras.layers import TextVectorization"
   ]
  },
  {
   "cell_type": "code",
   "execution_count": 7,
   "metadata": {
    "tags": []
   },
   "outputs": [],
   "source": [
    "X = df['comment_text']\n",
    "y = df[df.columns[2:]].values"
   ]
  },
  {
   "cell_type": "code",
   "execution_count": 8,
   "metadata": {
    "tags": []
   },
   "outputs": [],
   "source": [
    "MAX_FEATURES = 200000 # number of words in the vocab"
   ]
  },
  {
   "cell_type": "code",
   "execution_count": 9,
   "metadata": {
    "tags": []
   },
   "outputs": [],
   "source": [
    "vectorizer = TextVectorization(max_tokens=MAX_FEATURES,\n",
    "                               output_sequence_length=1800,\n",
    "                               output_mode='int')"
   ]
  },
  {
   "cell_type": "code",
   "execution_count": 10,
   "metadata": {
    "tags": []
   },
   "outputs": [],
   "source": [
    "vectorizer.adapt(X.values)"
   ]
  },
  {
   "cell_type": "code",
   "execution_count": 11,
   "metadata": {
    "tags": []
   },
   "outputs": [],
   "source": [
    "vectorized_text = vectorizer(X.values)"
   ]
  },
  {
   "cell_type": "code",
   "execution_count": 12,
   "metadata": {
    "tags": []
   },
   "outputs": [],
   "source": [
    "#MCSHBAP - map, chache, shuffle, batch, prefetch  from_tensor_slices, list_file\n",
    "dataset = tf.data.Dataset.from_tensor_slices((vectorized_text, y))\n",
    "dataset = dataset.cache()\n",
    "dataset = dataset.shuffle(160000)\n",
    "dataset = dataset.batch(16)\n",
    "dataset = dataset.prefetch(8) # helps bottlenecks"
   ]
  },
  {
   "cell_type": "code",
   "execution_count": 13,
   "metadata": {
    "tags": []
   },
   "outputs": [],
   "source": [
    "train = dataset.take(int(len(dataset)*.7))\n",
    "val = dataset.skip(int(len(dataset)*.7)).take(int(len(dataset)*.2))\n",
    "test = dataset.skip(int(len(dataset)*.9)).take(int(len(dataset)*.1))"
   ]
  },
  {
   "cell_type": "markdown",
   "metadata": {},
   "source": [
    "# 2. Create Sequential Model"
   ]
  },
  {
   "cell_type": "code",
   "execution_count": 14,
   "metadata": {
    "tags": []
   },
   "outputs": [],
   "source": [
    "from tensorflow.keras.models import Sequential\n",
    "from tensorflow.keras.layers import LSTM, Dropout, Bidirectional, Dense, Embedding"
   ]
  },
  {
   "cell_type": "code",
   "execution_count": 15,
   "metadata": {
    "tags": []
   },
   "outputs": [],
   "source": [
    "model = Sequential()\n",
    "# Create the embedding layer \n",
    "model.add(Embedding(MAX_FEATURES+1, 32))\n",
    "# Bidirectional LSTM Layer\n",
    "model.add(Bidirectional(LSTM(32, activation='tanh')))\n",
    "# Feature extractor Fully connected layers\n",
    "model.add(Dense(128, activation='relu'))\n",
    "model.add(Dense(256, activation='relu'))\n",
    "model.add(Dense(128, activation='relu'))\n",
    "# Final layer \n",
    "model.add(Dense(6, activation='sigmoid'))"
   ]
  },
  {
   "cell_type": "code",
   "execution_count": 16,
   "metadata": {
    "tags": []
   },
   "outputs": [],
   "source": [
    "model.compile(loss='BinaryCrossentropy', optimizer='Adam')"
   ]
  },
  {
   "cell_type": "code",
   "execution_count": 17,
   "metadata": {
    "tags": []
   },
   "outputs": [
    {
     "name": "stdout",
     "output_type": "stream",
     "text": [
      "Model: \"sequential\"\n",
      "_________________________________________________________________\n",
      " Layer (type)                Output Shape              Param #   \n",
      "=================================================================\n",
      " embedding (Embedding)       (None, None, 32)          6400032   \n",
      "                                                                 \n",
      " bidirectional (Bidirection  (None, 64)                16640     \n",
      " al)                                                             \n",
      "                                                                 \n",
      " dense (Dense)               (None, 128)               8320      \n",
      "                                                                 \n",
      " dense_1 (Dense)             (None, 256)               33024     \n",
      "                                                                 \n",
      " dense_2 (Dense)             (None, 128)               32896     \n",
      "                                                                 \n",
      " dense_3 (Dense)             (None, 6)                 774       \n",
      "                                                                 \n",
      "=================================================================\n",
      "Total params: 6491686 (24.76 MB)\n",
      "Trainable params: 6491686 (24.76 MB)\n",
      "Non-trainable params: 0 (0.00 Byte)\n",
      "_________________________________________________________________\n"
     ]
    }
   ],
   "source": [
    "model.summary()"
   ]
  },
  {
   "cell_type": "code",
   "execution_count": null,
   "metadata": {
    "tags": []
   },
   "outputs": [
    {
     "name": "stdout",
     "output_type": "stream",
     "text": [
      "  31/6981 [..............................] - ETA: 2:28:00 - loss: 0.4024"
     ]
    }
   ],
   "source": [
    "history = model.fit(train, epochs=1, validation_data=val)"
   ]
  },
  {
   "cell_type": "code",
   "execution_count": null,
   "metadata": {
    "tags": []
   },
   "outputs": [],
   "source": [
    "from matplotlib import pyplot as plt"
   ]
  },
  {
   "cell_type": "code",
   "execution_count": null,
   "metadata": {
    "jupyter": {
     "outputs_hidden": true
    },
    "tags": []
   },
   "outputs": [],
   "source": [
    "plt.figure(figsize=(8,5))\n",
    "pd.DataFrame(history.history).plot()\n",
    "plt.show()"
   ]
  },
  {
   "cell_type": "markdown",
   "metadata": {},
   "source": [
    "# 3. Make Predictions"
   ]
  },
  {
   "cell_type": "code",
   "execution_count": null,
   "metadata": {
    "tags": []
   },
   "outputs": [],
   "source": [
    "input_text = vectorizer('You freaking suck! I am going to hit you.')"
   ]
  },
  {
   "cell_type": "code",
   "execution_count": null,
   "metadata": {
    "tags": []
   },
   "outputs": [],
   "source": [
    "res = model.predict(input_text)"
   ]
  },
  {
   "cell_type": "code",
   "execution_count": null,
   "metadata": {
    "jupyter": {
     "source_hidden": true
    }
   },
   "outputs": [],
   "source": [
    "(res > 0.5).astype(int)"
   ]
  },
  {
   "cell_type": "code",
   "execution_count": null,
   "metadata": {},
   "outputs": [],
   "source": [
    "batch_X, batch_y = test.as_numpy_iterator().next()"
   ]
  },
  {
   "cell_type": "code",
   "execution_count": null,
   "metadata": {
    "jupyter": {
     "outputs_hidden": true
    },
    "tags": []
   },
   "outputs": [],
   "source": [
    "(model.predict(batch_X) > 0.5).astype(int)"
   ]
  },
  {
   "cell_type": "code",
   "execution_count": null,
   "metadata": {},
   "outputs": [],
   "source": [
    "res.shape"
   ]
  },
  {
   "cell_type": "markdown",
   "metadata": {},
   "source": [
    "# 4. Evaluate Model"
   ]
  },
  {
   "cell_type": "code",
   "execution_count": null,
   "metadata": {
    "tags": []
   },
   "outputs": [],
   "source": [
    "from tensorflow.keras.metrics import Precision, Recall, CategoricalAccuracy"
   ]
  },
  {
   "cell_type": "code",
   "execution_count": null,
   "metadata": {
    "tags": []
   },
   "outputs": [],
   "source": [
    "pre = Precision()\n",
    "re = Recall()\n",
    "acc = CategoricalAccuracy()"
   ]
  },
  {
   "cell_type": "code",
   "execution_count": null,
   "metadata": {
    "tags": []
   },
   "outputs": [],
   "source": [
    "for batch in test.as_numpy_iterator(): \n",
    "    # Unpack the batch \n",
    "    X_true, y_true = batch\n",
    "    # Make a prediction \n",
    "    yhat = model.predict(X_true)\n",
    "    \n",
    "    # Flatten the predictions\n",
    "    y_true = y_true.flatten()\n",
    "    yhat = yhat.flatten()\n",
    "    \n",
    "    pre.update_state(y_true, yhat)\n",
    "    re.update_state(y_true, yhat)\n",
    "    acc.update_state(y_true, yhat)"
   ]
  },
  {
   "cell_type": "code",
   "execution_count": null,
   "metadata": {
    "tags": []
   },
   "outputs": [],
   "source": [
    "print(f'Precision: {pre.result().numpy()}, Recall:{re.result().numpy()}, Accuracy:{acc.result().numpy()}')"
   ]
  },
  {
   "cell_type": "markdown",
   "metadata": {},
   "source": [
    "# 5. Test and Gradio"
   ]
  },
  {
   "cell_type": "code",
   "execution_count": null,
   "metadata": {
    "jupyter": {
     "outputs_hidden": true
    },
    "tags": []
   },
   "outputs": [],
   "source": [
    "!pip install gradio jinja2"
   ]
  },
  {
   "cell_type": "code",
   "execution_count": null,
   "metadata": {
    "jupyter": {
     "outputs_hidden": true
    },
    "tags": []
   },
   "outputs": [],
   "source": [
    "import tensorflow as tf\n",
    "import gradio as gr"
   ]
  },
  {
   "cell_type": "code",
   "execution_count": null,
   "metadata": {
    "tags": []
   },
   "outputs": [],
   "source": [
    "model.save('toxicity.h5')"
   ]
  },
  {
   "cell_type": "code",
   "execution_count": null,
   "metadata": {
    "tags": []
   },
   "outputs": [],
   "source": [
    "model = tf.keras.models.load_model('toxicity.h5')"
   ]
  },
  {
   "cell_type": "code",
   "execution_count": null,
   "metadata": {
    "tags": []
   },
   "outputs": [],
   "source": [
    "input_str = vectorizer('hey i freaken hate you!')"
   ]
  },
  {
   "cell_type": "code",
   "execution_count": null,
   "metadata": {
    "tags": []
   },
   "outputs": [],
   "source": [
    "res = model.predict(np.expand_dims(input_str,0))"
   ]
  },
  {
   "cell_type": "code",
   "execution_count": null,
   "metadata": {
    "tags": []
   },
   "outputs": [],
   "source": [
    "res"
   ]
  },
  {
   "cell_type": "code",
   "execution_count": null,
   "metadata": {
    "tags": []
   },
   "outputs": [],
   "source": [
    "def score_comment(comment):\n",
    "    vectorized_comment = vectorizer([comment])\n",
    "    results = model.predict(vectorized_comment)\n",
    "    \n",
    "    text = ''\n",
    "    for idx, col in enumerate(df.columns[2:]):\n",
    "        text += '{}: {}\\n'.format(col, results[0][idx]>0.5)\n",
    "    \n",
    "    return text"
   ]
  },
  {
   "cell_type": "code",
   "execution_count": null,
   "metadata": {
    "tags": []
   },
   "outputs": [],
   "source": [
    "interface = gr.Interface(fn=score_comment, \n",
    "                         inputs=gr.inputs.Textbox(lines=2, placeholder='Comment to score'),\n",
    "                        outputs='text')"
   ]
  },
  {
   "cell_type": "code",
   "execution_count": null,
   "metadata": {
    "tags": []
   },
   "outputs": [],
   "source": [
    "interface.launch(share=True)"
   ]
  },
  {
   "cell_type": "code",
   "execution_count": null,
   "metadata": {},
   "outputs": [],
   "source": []
  },
  {
   "cell_type": "code",
   "execution_count": null,
   "metadata": {},
   "outputs": [],
   "source": []
  }
 ],
 "metadata": {
  "kernelspec": {
   "display_name": "Python 3 (ipykernel)",
   "language": "python",
   "name": "python3"
  },
  "language_info": {
   "codemirror_mode": {
    "name": "ipython",
    "version": 3
   },
   "file_extension": ".py",
   "mimetype": "text/x-python",
   "name": "python",
   "nbconvert_exporter": "python",
   "pygments_lexer": "ipython3",
   "version": "3.9.13"
  }
 },
 "nbformat": 4,
 "nbformat_minor": 4
}
